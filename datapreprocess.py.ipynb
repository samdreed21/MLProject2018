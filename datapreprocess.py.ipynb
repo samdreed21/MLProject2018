{
 "cells": [
  {
   "cell_type": "code",
   "execution_count": 46,
   "metadata": {},
   "outputs": [],
   "source": [
    "import numpy as np \n",
    "import pandas as pd \n",
    "import matplotlib.pyplot as plt\n",
    "import itertools\n",
    "import pickle, gzip\n",
    "import gc"
   ]
  },
  {
   "cell_type": "code",
   "execution_count": 59,
   "metadata": {},
   "outputs": [
    {
     "data": {
      "text/plain": [
       "105"
      ]
     },
     "execution_count": 59,
     "metadata": {},
     "output_type": "execute_result"
    }
   ],
   "source": [
    "train_series = pd.read_csv('Data/training_sample_set.csv')\n",
    "train_metadata = pd.read_csv('Data/training_sample_set_metadata.csv')\n",
    "\n",
    "simple_features = train_series.groupby(\n",
    "    ['object_id', 'passband'])['flux', 'flux_err'].agg(\n",
    "    ['mean', 'median', 'max', 'min', 'std']).unstack('passband')\n",
    "\n",
    "\n",
    "#construct time series using binned observations:\n",
    "ts_mod = train_series[['object_id', 'mjd', 'passband', 'flux', 'flux_err']].copy()\n",
    "#bin by 5 days, reducing the size of data but still giving a time series\n",
    "ts_mod['mjd_d5'] = (ts_mod['mjd'] / 5).astype(int)\n",
    "ts_mod = ts_mod.groupby(['object_id', 'mjd_d5', 'passband'])['flux', 'flux_err'].mean().reset_index()\n",
    "\n",
    "#pivotting\n",
    "ts_piv = pd.pivot_table(ts_mod, \n",
    "                        index='object_id', \n",
    "                        columns=['mjd_d5', 'passband'], \n",
    "                        values=['flux','flux_err'],\n",
    "                        dropna=False)\n",
    "\n",
    "gc.enable()\n",
    "#Read in metadata\n",
    "metadata_train=pd.read_csv('Data/training_sample_set_metadata.csv')\n",
    "#Not using gal_l and gal_b features\n",
    "del metadata_train['gal_l'], metadata_train['gal_b']\n",
    "#Bin into ddf and non-ddf training\n",
    "#ddf = metadata_train[(metadata_train['ddf'] == 1)]\n",
    "#y_train_ddf = ddf['target']\n",
    "#non_ddf = metadata_train[(metadata_train['ddf'] == 0)]\n",
    "#y_train_non_ddf = non_ddf3['target']\n",
    "#del metadata_train, ddf['target'], non_ddf['target'], ddf['ddf'], non_ddf['ddf']\n",
    "gc.collect()\n",
    "#ddf.head(10)\n",
    "\n"
   ]
  },
  {
   "cell_type": "code",
   "execution_count": null,
   "metadata": {},
   "outputs": [],
   "source": []
  }
 ],
 "metadata": {
  "kernelspec": {
   "display_name": "Python 3",
   "language": "python",
   "name": "python3"
  },
  "language_info": {
   "codemirror_mode": {
    "name": "ipython",
    "version": 3
   },
   "file_extension": ".py",
   "mimetype": "text/x-python",
   "name": "python",
   "nbconvert_exporter": "python",
   "pygments_lexer": "ipython3",
   "version": "3.6.5"
  }
 },
 "nbformat": 4,
 "nbformat_minor": 2
}
