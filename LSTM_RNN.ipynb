{
 "cells": [
  {
   "cell_type": "code",
   "execution_count": 139,
   "metadata": {},
   "outputs": [],
   "source": [
    "import numpy as np \n",
    "import pandas as pd \n",
    "import matplotlib.pyplot as plt\n",
    "import itertools\n",
    "import pickle, gzip\n",
    "import gc\n",
    "import time"
   ]
  },
  {
   "cell_type": "code",
   "execution_count": 140,
   "metadata": {},
   "outputs": [],
   "source": [
    "train_series = pd.read_csv('training_set.csv')\n",
    "metadata_train = pd.read_csv('training_set_metadata.csv')\n",
    "\n",
    "simple_features = train_series.groupby(\n",
    "    ['object_id', 'passband'])['flux'].agg(\n",
    "    ['mean', 'median', 'max', 'min', 'std']).unstack('passband')\n",
    "\n",
    "\n",
    "#construct time series using binned observations:\n",
    "ts_mod = train_series[['object_id', 'mjd', 'passband', 'flux']].copy()\n",
    "#bin by 5 days, reducing the size of data but still giving a time series\n",
    "ts_mod['mjd_d5'] = (ts_mod['mjd'] / 5).astype(int)\n",
    "ts_mod = ts_mod.groupby(['object_id', 'mjd_d5', 'passband'])['flux'].mean().reset_index()\n",
    "\n",
    "#pivotting\n",
    "ts_piv = pd.pivot_table(ts_mod, \n",
    "                        index='object_id', \n",
    "                        columns=['mjd_d5', 'passband'], \n",
    "                        values=['flux'],\n",
    "                        dropna=False)\n",
    "\n",
    "gc.enable()"
   ]
  },
  {
   "cell_type": "code",
   "execution_count": 141,
   "metadata": {},
   "outputs": [],
   "source": [
    "del metadata_train['ra'],metadata_train['decl'],metadata_train['gal_l'], metadata_train['gal_b'],metadata_train['hostgal_photoz'],metadata_train['hostgal_photoz_err'], metadata_train['distmod'], metadata_train['mwebv']\n",
    "#Bin into ddf and non-ddf training\n",
    "ddf = metadata_train[(metadata_train['ddf'] == 1)]\n",
    "del ddf['ddf']\n",
    "\n",
    "ddf_far_away= (ddf[(ddf['hostgal_specz'] > 0)])\n",
    "ddf_far_away.set_index('object_id', inplace=True)\n",
    "ddf_nearby= ddf[(ddf['hostgal_specz'] <=0)]\n",
    "ddf_nearby.set_index('object_id', inplace=True)\n",
    "non_ddf = metadata_train[(metadata_train['ddf'] == 0)]\n",
    "del non_ddf['ddf']\n",
    "\n",
    "non_ddf_far_away= non_ddf[(non_ddf['hostgal_specz'] >0)]\n",
    "non_ddf_far_away.set_index('object_id', inplace=True)\n",
    "non_ddf_nearby= non_ddf[(non_ddf['hostgal_specz'] <=0 )]\n",
    "non_ddf_nearby.set_index('object_id', inplace=True)\n",
    "del ddf, non_ddf, ddf_far_away['hostgal_specz'], non_ddf_far_away['hostgal_specz'], ddf_nearby['hostgal_specz'], non_ddf_nearby['hostgal_specz']\n",
    "\n",
    "gc.collect()\n",
    "\n",
    "bins = [ddf_far_away, ddf_nearby, non_ddf_far_away, non_ddf_nearby]"
   ]
  },
  {
   "cell_type": "code",
   "execution_count": 142,
   "metadata": {},
   "outputs": [],
   "source": [
    "def get_data_point(object_id, bin_name):\n",
    "    x = torch.tensor(ts_piv.loc[object_id].values.reshape(-1, 1, 6), dtype = torch.float32)\n",
    "    x[x != x] = 0\n",
    "    y = torch.tensor([classes.index(bin_name.loc[object_id].target)])\n",
    "    return x, y\n",
    "\n",
    "def random_data_point(bin_name):\n",
    "    object_id = bin_name.sample().index.values[0]\n",
    "    return get_data_point(object_id, bin_name)"
   ]
  },
  {
   "cell_type": "code",
   "execution_count": 143,
   "metadata": {},
   "outputs": [],
   "source": [
    "import torch\n",
    "import torch.nn as nn\n",
    "import torch.autograd as autograd\n",
    "import torch.optim as optim"
   ]
  },
  {
   "cell_type": "code",
   "execution_count": 144,
   "metadata": {},
   "outputs": [],
   "source": [
    "class RNN(nn.Module):\n",
    "    def __init__(self, input_size, hidden_size, output_size, batch_size=1):\n",
    "        super(RNN, self).__init__()\n",
    "\n",
    "        self.hidden_dim = hidden_size\n",
    "        self.batch_size = batch_size\n",
    "        #TODO add dropout or something\n",
    "        self.lstm = nn.LSTM(input_size, hidden_size, dropout=.5, num_layers=2)\n",
    "        self.hidden2out = nn.Linear(hidden_size, output_size)\n",
    "        self.softmax = nn.LogSoftmax(dim=1)\n",
    "        self.hidden = self.init_hidden()\n",
    "    \n",
    "    def forward(self, sequence):\n",
    "        x = sequence.view(len(sequence), self.batch_size , -1)\n",
    "        lstm_out, self.hidden = self.lstm(x, self.hidden)\n",
    "        output  = self.hidden2out(lstm_out[-1])\n",
    "        output = self.softmax(output)\n",
    "        return output\n",
    "\n",
    "    def init_hidden(self):\n",
    "        return (torch.zeros(2, self.batch_size, self.hidden_dim),\n",
    "                torch.zeros(2, self.batch_size, self.hidden_dim))"
   ]
  },
  {
   "cell_type": "code",
   "execution_count": 145,
   "metadata": {},
   "outputs": [],
   "source": [
    "classes = tuple(metadata_train.target.unique())"
   ]
  },
  {
   "cell_type": "code",
   "execution_count": 146,
   "metadata": {},
   "outputs": [],
   "source": [
    "def categoryFromOutput(output):\n",
    "    top_n, top_i = output.topk(1)\n",
    "    category_i = top_i[0].item()\n",
    "    return classes[category_i], category_i"
   ]
  },
  {
   "cell_type": "code",
   "execution_count": 147,
   "metadata": {},
   "outputs": [],
   "source": [
    "def predict(model, bin_name, sample=1):\n",
    "    \n",
    "    vc = bin_name.target.value_counts(normalize=True)\n",
    "    weights = torch.tensor([1-(vc.loc[i]) if i in vc.index else 1 for i in classes])\n",
    "    labels = []\n",
    "    loss = 0\n",
    "    criterion = nn.NLLLoss(weight=weights)\n",
    "    s = bin_name.sample(frac=sample)\n",
    "    with torch.no_grad():\n",
    "        for obj_id in s.index:\n",
    "            x, y = get_data_point(obj_id, s)\n",
    "            y_hat = model(x)\n",
    "            label = categoryFromOutput(y_hat)[0]\n",
    "            labels.append([obj_id, label, bin_name.loc[obj_id].target])\n",
    "            loss += criterion(y_hat, y)\n",
    "\n",
    "    print(\"Average Weighted Loss: {:.2f}\".format(loss/len(s)))\n",
    "    labels= pd.DataFrame(labels, columns=[\"object_id\", \"y_pred\", \"y_true\"])\n",
    "    labels.set_index(\"object_id\", inplace=True)\n",
    "    return labels, loss/len(s)"
   ]
  },
  {
   "cell_type": "code",
   "execution_count": 148,
   "metadata": {},
   "outputs": [],
   "source": [
    "def up_sample(bin_name, n=None):\n",
    "    from sklearn.utils import resample\n",
    "    classes = bin_name.target.unique()\n",
    "    class_dfs = [bin_name[bin_name.target == class_] for class_ in classes]\n",
    "    if not n:\n",
    "        n = np.max([len(df) for df in class_dfs])\n",
    "    even_dfs = [resample(df,\n",
    "                        replace=True,\n",
    "                        n_samples=n) for df in class_dfs]\n",
    "    return pd.concat(even_dfs).sample(frac=1).reset_index()"
   ]
  },
  {
   "cell_type": "code",
   "execution_count": 149,
   "metadata": {},
   "outputs": [],
   "source": [
    "def train(train_bin_name, valid_bin_name, n_samples=None, epochs=1, verbose=True):\n",
    "    \n",
    "    # Initialize Model\n",
    "    print(\"Building LSTM model..\")\n",
    "    model = RNN(6, 32, 14)\n",
    "    criterion = nn.NLLLoss()\n",
    "    optimizer = optim.SGD(model.parameters(), lr=0.01, momentum = .9)\n",
    "    scheduler = optim.lr_scheduler.ReduceLROnPlateau(optimizer, 'min', patience=2, factor=0.5, verbose=verbose) #epochs//10-1\n",
    "    print(\"Done.\")\n",
    "    print_every = 100\n",
    "    current_loss = 0\n",
    "    \n",
    "    train_loss = []\n",
    "    valid_loss = []\n",
    "    min_loss = np.inf\n",
    "\n",
    "    start_t = time.time()\n",
    "    \n",
    "    for epoch in range(epochs):\n",
    "        randomized_bin = up_sample(train_bin_name, n=n_samples)\n",
    "        n = len(randomized_bin)\n",
    "        for i, row in randomized_bin.iterrows():\n",
    "            # Step 1. Remember that Pytorch accumulates gradients.\n",
    "            # We need to clear them out before each instance\n",
    "            model.zero_grad()\n",
    "            \n",
    "            # Also, we need to clear out the hidden state of the LSTM,\n",
    "            # detaching it from its history on the last instance.\n",
    "            model.hidden = model.init_hidden()\n",
    "\n",
    "            # Step 2. Get our inputs ready for the network, that is, turn them into\n",
    "            # Tensors of light curve inputs.\n",
    "            obj_id = row['object_id']\n",
    "            x_train, y_train = get_data_point(obj_id, train_bin_name)\n",
    "\n",
    "            # Step 3. Run our forward pass.\n",
    "            y_hat = model(x_train)\n",
    "\n",
    "            # Step 4. Compute the loss, gradients, and update the parameters by\n",
    "            #  calling optimizer.step()\n",
    "            loss = criterion(y_hat, y_train)\n",
    "            current_loss += loss\n",
    "            loss.backward()\n",
    "            optimizer.step()\n",
    "            \n",
    "            if ((i+1)%print_every == 0 and verbose):\n",
    "                print(\"Epoch {} {:.0f}% ===> Avg Loss: {:.3f}\".format(epoch, (i/n*100), current_loss/print_every))\n",
    "                current_loss=0\n",
    "                \n",
    "        # After each epoch test on validation data\n",
    "        print(\"Epoch {}: Validation\".format(epoch), end =\" \")\n",
    "        _, vloss = predict(model, valid_bin_name)\n",
    "        _, tloss = predict(model, train_bin_name)\n",
    "        valid_loss.append(vloss)\n",
    "        train_loss.append(tloss)\n",
    "        \n",
    "        # Give it to the scheduler to see if learning rate needs to be reduced\n",
    "        scheduler.step(vloss)\n",
    "        \n",
    "        if vloss < min_loss:\n",
    "            min_loss = vloss\n",
    "            print(f\"         Model achieved record validation loss, Saving to {start_t}_E{epoch}_L{vloss}.pt\")\n",
    "            torch.save(model.state_dict(), f'models/{start_t}_E{epoch}.pt')\n",
    "            print(\"         Done.\")\n",
    "            \n",
    "    print(f\"Finished {epochs} epochs in {time.time() - start_t}\")\n",
    "    return model, valid_loss, train_loss"
   ]
  },
  {
   "cell_type": "code",
   "execution_count": 150,
   "metadata": {},
   "outputs": [],
   "source": [
    "from sklearn.model_selection import train_test_split\n",
    "from sklearn.ensemble import RandomForestClassifier\n",
    "from sklearn.metrics import confusion_matrix, roc_curve\n",
    "import seaborn as sns\n",
    "import warnings"
   ]
  },
  {
   "cell_type": "code",
   "execution_count": 151,
   "metadata": {},
   "outputs": [],
   "source": [
    "# Split into validation and training.\n",
    "ddf_far_away_train, ddf_far_away_validation = train_test_split(ddf_far_away, test_size=0.2)\n",
    "ddf_nearby_train, ddf_nearby_validation = train_test_split(ddf_nearby, test_size=0.2)\n",
    "    \n",
    "non_ddf_far_away_train, non_ddf_far_away_validation = train_test_split(non_ddf_far_away, test_size=0.2)\n",
    "non_ddf_nearby_train, non_ddf_nearby_validation = train_test_split(non_ddf_nearby, test_size=0.2)\n",
    "    \n",
    "# Bin up\n",
    "training_bin = [ddf_far_away_train, ddf_nearby_train, \n",
    "                non_ddf_far_away_train, non_ddf_nearby_train]\n",
    "\n",
    "validation_bin = [ddf_far_away_validation, ddf_nearby_validation, \n",
    "                   non_ddf_far_away_validation, non_ddf_nearby_validation]\n",
    "\n",
    "# filenames = ['ddf_far_away', 'ddf_nearby', 'non_ddf_far_away', 'non_ddf_nearby']\n"
   ]
  },
  {
   "cell_type": "code",
   "execution_count": 152,
   "metadata": {},
   "outputs": [
    {
     "name": "stdout",
     "output_type": "stream",
     "text": [
      "Building LSTM model..\n",
      "Done.\n",
      "Epoch 0 20% ===> Avg Loss: 2.192\n",
      "Epoch 0 40% ===> Avg Loss: 1.813\n",
      "Epoch 0 60% ===> Avg Loss: 1.707\n",
      "Epoch 0 80% ===> Avg Loss: 1.660\n",
      "Epoch 0 100% ===> Avg Loss: 1.526\n",
      "Epoch 0: Validation Average Weighted Loss: 1.44\n",
      "Average Weighted Loss: 1.46\n",
      "         Model achieved record validation loss, Saving to 1544136550.4200923_E0_L1.4392480850219727.pt\n",
      "         Done.\n",
      "Epoch 1 20% ===> Avg Loss: 1.569\n",
      "Epoch 1 40% ===> Avg Loss: 1.506\n",
      "Epoch 1 60% ===> Avg Loss: 1.437\n",
      "Epoch 1 80% ===> Avg Loss: 1.876\n",
      "Epoch 1 100% ===> Avg Loss: 1.674\n",
      "Epoch 1: Validation Average Weighted Loss: 1.41\n",
      "Average Weighted Loss: 1.40\n",
      "         Model achieved record validation loss, Saving to 1544136550.4200923_E1_L1.4068188667297363.pt\n",
      "         Done.\n",
      "Epoch 2 20% ===> Avg Loss: 1.629\n",
      "Epoch 2 40% ===> Avg Loss: 1.653\n",
      "Epoch 2 60% ===> Avg Loss: 1.592\n",
      "Epoch 2 80% ===> Avg Loss: 1.584\n",
      "Epoch 2 100% ===> Avg Loss: 1.488\n",
      "Epoch 2: Validation Average Weighted Loss: 1.56\n",
      "Average Weighted Loss: 1.59\n",
      "Epoch 3 20% ===> Avg Loss: 1.444\n",
      "Epoch 3 40% ===> Avg Loss: 1.411\n",
      "Epoch 3 60% ===> Avg Loss: 1.600\n",
      "Epoch 3 80% ===> Avg Loss: 1.511\n",
      "Epoch 3 100% ===> Avg Loss: 1.512\n",
      "Epoch 3: Validation Average Weighted Loss: 1.33\n",
      "Average Weighted Loss: 1.32\n",
      "         Model achieved record validation loss, Saving to 1544136550.4200923_E3_L1.3334519863128662.pt\n",
      "         Done.\n",
      "Epoch 4 20% ===> Avg Loss: 1.298\n",
      "Epoch 4 40% ===> Avg Loss: 1.669\n",
      "Epoch 4 60% ===> Avg Loss: 1.484\n",
      "Epoch 4 80% ===> Avg Loss: 1.621\n",
      "Epoch 4 100% ===> Avg Loss: 1.461\n",
      "Epoch 4: Validation Average Weighted Loss: 1.48\n",
      "Average Weighted Loss: 1.50\n",
      "Epoch 5 20% ===> Avg Loss: 1.409\n",
      "Epoch 5 40% ===> Avg Loss: 1.530\n",
      "Epoch 5 60% ===> Avg Loss: 1.466\n",
      "Epoch 5 80% ===> Avg Loss: 1.387\n",
      "Epoch 5 100% ===> Avg Loss: 1.171\n",
      "Epoch 5: Validation Average Weighted Loss: 1.77\n",
      "Average Weighted Loss: 1.74\n",
      "Epoch 6 20% ===> Avg Loss: 1.661\n",
      "Epoch 6 40% ===> Avg Loss: 1.558\n",
      "Epoch 6 60% ===> Avg Loss: 1.283\n",
      "Epoch 6 80% ===> Avg Loss: 1.222\n",
      "Epoch 6 100% ===> Avg Loss: 1.663\n",
      "Epoch 6: Validation Average Weighted Loss: 1.68\n",
      "Average Weighted Loss: 1.66\n",
      "Epoch     6: reducing learning rate of group 0 to 5.0000e-03.\n",
      "Epoch 7 20% ===> Avg Loss: 1.557\n",
      "Epoch 7 40% ===> Avg Loss: 1.337\n",
      "Epoch 7 60% ===> Avg Loss: 1.318\n",
      "Epoch 7 80% ===> Avg Loss: 1.080\n",
      "Epoch 7 100% ===> Avg Loss: 1.119\n",
      "Epoch 7: Validation Average Weighted Loss: 1.50\n",
      "Average Weighted Loss: 1.41\n",
      "Epoch 8 20% ===> Avg Loss: 1.299\n",
      "Epoch 8 40% ===> Avg Loss: 1.513\n",
      "Epoch 8 60% ===> Avg Loss: 1.133\n",
      "Epoch 8 80% ===> Avg Loss: 1.174\n",
      "Epoch 8 100% ===> Avg Loss: 0.872\n",
      "Epoch 8: Validation Average Weighted Loss: 1.82\n",
      "Average Weighted Loss: 1.76\n",
      "Epoch 9 20% ===> Avg Loss: 1.022\n",
      "Epoch 9 40% ===> Avg Loss: 0.907\n",
      "Epoch 9 60% ===> Avg Loss: 0.782\n",
      "Epoch 9 80% ===> Avg Loss: 0.892\n",
      "Epoch 9 100% ===> Avg Loss: 0.824\n",
      "Epoch 9: Validation Average Weighted Loss: 1.30\n",
      "Average Weighted Loss: 1.19\n",
      "         Model achieved record validation loss, Saving to 1544136550.4200923_E9_L1.2965494394302368.pt\n",
      "         Done.\n",
      "Epoch 10 20% ===> Avg Loss: 0.899\n",
      "Epoch 10 40% ===> Avg Loss: 0.916\n",
      "Epoch 10 60% ===> Avg Loss: 0.894\n",
      "Epoch 10 80% ===> Avg Loss: 0.833\n",
      "Epoch 10 100% ===> Avg Loss: 0.765\n",
      "Epoch 10: Validation Average Weighted Loss: 1.22\n",
      "Average Weighted Loss: 1.19\n",
      "         Model achieved record validation loss, Saving to 1544136550.4200923_E10_L1.2228271961212158.pt\n",
      "         Done.\n",
      "Epoch 11 20% ===> Avg Loss: 1.074\n",
      "Epoch 11 40% ===> Avg Loss: 1.175\n",
      "Epoch 11 60% ===> Avg Loss: 0.819\n",
      "Epoch 11 80% ===> Avg Loss: 0.784\n",
      "Epoch 11 100% ===> Avg Loss: 0.663\n",
      "Epoch 11: Validation Average Weighted Loss: 0.95\n",
      "Average Weighted Loss: 0.94\n",
      "         Model achieved record validation loss, Saving to 1544136550.4200923_E11_L0.9504921436309814.pt\n",
      "         Done.\n",
      "Epoch 12 20% ===> Avg Loss: 0.466\n",
      "Epoch 12 40% ===> Avg Loss: 0.627\n",
      "Epoch 12 60% ===> Avg Loss: 0.680\n",
      "Epoch 12 80% ===> Avg Loss: 0.733\n",
      "Epoch 12 100% ===> Avg Loss: 0.440\n",
      "Epoch 12: Validation Average Weighted Loss: 0.87\n",
      "Average Weighted Loss: 0.74\n",
      "         Model achieved record validation loss, Saving to 1544136550.4200923_E12_L0.8749330043792725.pt\n",
      "         Done.\n",
      "Epoch 13 20% ===> Avg Loss: 0.469\n",
      "Epoch 13 40% ===> Avg Loss: 0.547\n",
      "Epoch 13 60% ===> Avg Loss: 0.648\n",
      "Epoch 13 80% ===> Avg Loss: 0.509\n",
      "Epoch 13 100% ===> Avg Loss: 0.521\n",
      "Epoch 13: Validation Average Weighted Loss: 1.09\n",
      "Average Weighted Loss: 0.85\n",
      "Epoch 14 20% ===> Avg Loss: 0.447\n",
      "Epoch 14 40% ===> Avg Loss: 0.407\n",
      "Epoch 14 60% ===> Avg Loss: 0.482\n",
      "Epoch 14 80% ===> Avg Loss: 0.368\n",
      "Epoch 14 100% ===> Avg Loss: 0.404\n",
      "Epoch 14: Validation Average Weighted Loss: 1.11\n",
      "Average Weighted Loss: 0.98\n",
      "Epoch 15 20% ===> Avg Loss: 0.334\n",
      "Epoch 15 40% ===> Avg Loss: 0.417\n",
      "Epoch 15 60% ===> Avg Loss: 0.307\n",
      "Epoch 15 80% ===> Avg Loss: 0.294\n",
      "Epoch 15 100% ===> Avg Loss: 0.564\n",
      "Epoch 15: Validation Average Weighted Loss: 2.32\n",
      "Average Weighted Loss: 2.23\n",
      "Epoch    15: reducing learning rate of group 0 to 2.5000e-03.\n",
      "Epoch 16 20% ===> Avg Loss: 0.370\n",
      "Epoch 16 40% ===> Avg Loss: 0.304\n",
      "Epoch 16 60% ===> Avg Loss: 0.322\n",
      "Epoch 16 80% ===> Avg Loss: 0.368\n",
      "Epoch 16 100% ===> Avg Loss: 0.325\n",
      "Epoch 16: Validation Average Weighted Loss: 1.83\n",
      "Average Weighted Loss: 1.65\n",
      "Epoch 17 20% ===> Avg Loss: 0.331\n",
      "Epoch 17 40% ===> Avg Loss: 0.205\n",
      "Epoch 17 60% ===> Avg Loss: 0.193\n",
      "Epoch 17 80% ===> Avg Loss: 0.334\n",
      "Epoch 17 100% ===> Avg Loss: 0.192\n",
      "Epoch 17: Validation Average Weighted Loss: 0.84\n",
      "Average Weighted Loss: 0.70\n",
      "         Model achieved record validation loss, Saving to 1544136550.4200923_E17_L0.8356013298034668.pt\n",
      "         Done.\n",
      "Epoch 18 20% ===> Avg Loss: 0.379\n",
      "Epoch 18 40% ===> Avg Loss: 0.240\n",
      "Epoch 18 60% ===> Avg Loss: 0.307\n",
      "Epoch 18 80% ===> Avg Loss: 0.332\n",
      "Epoch 18 100% ===> Avg Loss: 0.210\n",
      "Epoch 18: Validation Average Weighted Loss: 0.93\n",
      "Average Weighted Loss: 0.75\n",
      "Epoch 19 20% ===> Avg Loss: 0.203\n",
      "Epoch 19 40% ===> Avg Loss: 0.227\n",
      "Epoch 19 60% ===> Avg Loss: 0.167\n",
      "Epoch 19 80% ===> Avg Loss: 0.144\n",
      "Epoch 19 100% ===> Avg Loss: 0.200\n",
      "Epoch 19: Validation Average Weighted Loss: 0.65\n",
      "Average Weighted Loss: 0.66\n",
      "         Model achieved record validation loss, Saving to 1544136550.4200923_E19_L0.6471781730651855.pt\n",
      "         Done.\n",
      "Epoch 20 20% ===> Avg Loss: 0.158\n",
      "Epoch 20 40% ===> Avg Loss: 0.291\n",
      "Epoch 20 60% ===> Avg Loss: 0.181\n",
      "Epoch 20 80% ===> Avg Loss: 0.127\n",
      "Epoch 20 100% ===> Avg Loss: 0.256\n",
      "Epoch 20: Validation Average Weighted Loss: 0.86\n",
      "Average Weighted Loss: 0.62\n",
      "Epoch 21 20% ===> Avg Loss: 0.144\n",
      "Epoch 21 40% ===> Avg Loss: 0.068\n",
      "Epoch 21 60% ===> Avg Loss: 0.137\n",
      "Epoch 21 80% ===> Avg Loss: 0.165\n",
      "Epoch 21 100% ===> Avg Loss: 0.158\n",
      "Epoch 21: Validation Average Weighted Loss: 0.70\n",
      "Average Weighted Loss: 0.59\n",
      "Epoch 22 20% ===> Avg Loss: 0.135\n",
      "Epoch 22 40% ===> Avg Loss: 0.166\n",
      "Epoch 22 60% ===> Avg Loss: 0.207\n",
      "Epoch 22 80% ===> Avg Loss: 0.081\n",
      "Epoch 22 100% ===> Avg Loss: 0.181\n",
      "Epoch 22: Validation Average Weighted Loss: 0.49\n",
      "Average Weighted Loss: 0.38\n",
      "         Model achieved record validation loss, Saving to 1544136550.4200923_E22_L0.4903680682182312.pt\n",
      "         Done.\n",
      "Epoch 23 20% ===> Avg Loss: 0.080\n",
      "Epoch 23 40% ===> Avg Loss: 0.073\n",
      "Epoch 23 60% ===> Avg Loss: 0.159\n",
      "Epoch 23 80% ===> Avg Loss: 0.513\n",
      "Epoch 23 100% ===> Avg Loss: 0.086\n",
      "Epoch 23: Validation Average Weighted Loss: 0.60\n",
      "Average Weighted Loss: 0.49\n",
      "Epoch 24 20% ===> Avg Loss: 0.460\n",
      "Epoch 24 40% ===> Avg Loss: 0.336\n",
      "Epoch 24 60% ===> Avg Loss: 0.289\n",
      "Epoch 24 80% ===> Avg Loss: 0.192\n",
      "Epoch 24 100% ===> Avg Loss: 0.162\n",
      "Epoch 24: Validation Average Weighted Loss: 0.68\n",
      "Average Weighted Loss: 0.45\n",
      "Epoch 25 20% ===> Avg Loss: 0.994\n",
      "Epoch 25 40% ===> Avg Loss: 0.332\n",
      "Epoch 25 60% ===> Avg Loss: 0.384\n",
      "Epoch 25 80% ===> Avg Loss: 0.361\n",
      "Epoch 25 100% ===> Avg Loss: 0.241\n",
      "Epoch 25: Validation Average Weighted Loss: 0.70\n",
      "Average Weighted Loss: 0.56\n",
      "Epoch    25: reducing learning rate of group 0 to 1.2500e-03.\n",
      "Epoch 26 20% ===> Avg Loss: 0.166\n",
      "Epoch 26 40% ===> Avg Loss: 0.146\n",
      "Epoch 26 60% ===> Avg Loss: 0.142\n",
      "Epoch 26 80% ===> Avg Loss: 0.278\n",
      "Epoch 26 100% ===> Avg Loss: 0.109\n",
      "Epoch 26: Validation Average Weighted Loss: 0.59\n",
      "Average Weighted Loss: 0.51\n",
      "Epoch 27 20% ===> Avg Loss: 0.158\n",
      "Epoch 27 40% ===> Avg Loss: 0.202\n",
      "Epoch 27 60% ===> Avg Loss: 0.098\n",
      "Epoch 27 80% ===> Avg Loss: 0.267\n",
      "Epoch 27 100% ===> Avg Loss: 0.261\n"
     ]
    },
    {
     "name": "stdout",
     "output_type": "stream",
     "text": [
      "Epoch 27: Validation Average Weighted Loss: 1.48\n",
      "Average Weighted Loss: 1.28\n",
      "Epoch 28 20% ===> Avg Loss: 0.239\n",
      "Epoch 28 40% ===> Avg Loss: 0.128\n",
      "Epoch 28 60% ===> Avg Loss: 0.277\n",
      "Epoch 28 80% ===> Avg Loss: 0.177\n",
      "Epoch 28 100% ===> Avg Loss: 0.175\n",
      "Epoch 28: Validation Average Weighted Loss: 0.54\n",
      "Average Weighted Loss: 0.34\n",
      "Epoch    28: reducing learning rate of group 0 to 6.2500e-04.\n",
      "Epoch 29 20% ===> Avg Loss: 0.085\n",
      "Epoch 29 40% ===> Avg Loss: 0.060\n",
      "Epoch 29 60% ===> Avg Loss: 0.130\n",
      "Epoch 29 80% ===> Avg Loss: 0.128\n",
      "Epoch 29 100% ===> Avg Loss: 0.185\n",
      "Epoch 29: Validation Average Weighted Loss: 0.54\n",
      "Average Weighted Loss: 0.33\n",
      "Finished 30 epochs in 4083.2764897346497\n"
     ]
    }
   ],
   "source": [
    "model = train(ddf_nearby_train, ddf_nearby_validation, epochs=30, n_samples=100)"
   ]
  },
  {
   "cell_type": "code",
   "execution_count": 153,
   "metadata": {},
   "outputs": [
    {
     "name": "stdout",
     "output_type": "stream",
     "text": [
      "Average Weighted Loss: 0.52\n"
     ]
    }
   ],
   "source": [
    "#model = RNN(6, 32, 14)\n",
    "#model.load_state_dict(torch.load(\"models/1544050544.596692_E0.pt\"))\n",
    "#model.eval()\n",
    "y_hat, loss = predict(model[0], ddf_nearby_validation)"
   ]
  },
  {
   "cell_type": "code",
   "execution_count": 167,
   "metadata": {},
   "outputs": [],
   "source": [
    "def confusion(labels, plot=True, plot_name=None):\n",
    "    classes = np.sort(list(labels.y_true.unique()))\n",
    "    y_pred = np.array(labels.y_pred)\n",
    "    y_true = np.array(labels.y_true)\n",
    "    cm=confusion_matrix(y_true, y_pred)\n",
    "    true_pos = np.trace(cm)\n",
    "    false_pos = np.sum(np.sum(cm, axis=0) )- true_pos\n",
    "    false_neg =np.sum( np.sum(cm, axis=1)) - true_pos\n",
    "    \n",
    "    precision = true_pos / (true_pos+false_pos)\n",
    "    recall = true_pos / (true_pos + false_neg)\n",
    "    f1= (2*precision*recall)/ (precision+recall)\n",
    "    print(\"Accuracy:\" , np.trace(cm)/np.sum(cm))\n",
    "    print(\"Precision:\", precision)\n",
    "    print(\"Recall:\", recall)\n",
    "    print(\"F1 Score:\", f1 )\n",
    "    \n",
    "    cm_sum=np.array(cm.sum(axis=1))\n",
    "    cm_sum=[[.01 if(c==0) else c] for c in cm_sum] \n",
    "    #cm=cm.astype('float') / (cm_sum ) \n",
    "    \n",
    "    fig, ax = plt.subplots(figsize=(9,9))\n",
    "    sns.heatmap(cm, xticklabels=classes, yticklabels=classes, cmap='inferno', annot=True, lw=1, fmt=\".2f\")\n",
    "    ax.set_xlabel('Predicted Label')\n",
    "    ax.set_ylabel('True Label')\n",
    "    if plot:\n",
    "        if(plot_name):\n",
    "            plt.savefig(f'Confusion_Matrices/{plot_name}.png')\n",
    "        plt.show()\n",
    "\n",
    "def plot_accuracy(train_loss, valid_loss, plot_name=None):\n",
    "    fig_nodes = plt.figure(figsize=(8,8))\n",
    "    ax1 = fig_nodes.add_subplot(1,1,1)\n",
    "    ax1.plot(train_loss, marker='o', markersize=5, label = \"Training\")\n",
    "    ax1.plot(valid_loss, marker='+', markersize=5, label = \"Validation\")\n",
    "    ax1.set_xlabel(\"Epochs\")\n",
    "    ax1.set_ylabel(\"Loss\")\n",
    "    ax1.set_title(f\"Training Loss wrt Epochs\")\n",
    "    plt.legend()\n",
    "    if(plot_name):\n",
    "        plt.savefig(f'Loss_Plots/{plot_name}.png')\n",
    "    plt.show()"
   ]
  },
  {
   "cell_type": "code",
   "execution_count": 166,
   "metadata": {},
   "outputs": [
    {
     "name": "stdout",
     "output_type": "stream",
     "text": [
      "Accuracy: 0.8518518518518519\n",
      "Precision: 0.8518518518518519\n",
      "Recall: 0.8518518518518519\n",
      "F1 Score: 0.8518518518518519\n"
     ]
    },
    {
     "data": {
      "image/png": "[encoded data removed]",
      "text/plain": [
       "<Figure size 648x648 with 2 Axes>"
      ]
     },
     "metadata": {},
     "output_type": "display_data"
    }
   ],
   "source": [
    "confusion(y_hat, plot_name=\"ddf_nearby_1\")"
   ]
  },
  {
   "cell_type": "code",
   "execution_count": 157,
   "metadata": {},
   "outputs": [
    {
     "name": "stdout",
     "output_type": "stream",
     "text": [
      "Accuracy: 0.8518518518518519\n",
      "Precision: 0.8518518518518519\n",
      "Recall: 0.8518518518518519\n",
      "F1 Score: 0.8518518518518519\n"
     ]
    },
    {
     "data": {
      "image/png": "[encoded data removed]",
      "text/plain": [
       "<Figure size 648x648 with 2 Axes>"
      ]
     },
     "metadata": {},
     "output_type": "display_data"
    }
   ],
   "source": [
    "confusion(y_hat)"
   ]
  },
  {
   "cell_type": "code",
   "execution_count": 87,
   "metadata": {},
   "outputs": [
    {
     "data": {
      "text/plain": [
       "6831"
      ]
     },
     "execution_count": 87,
     "metadata": {},
     "output_type": "execute_result"
    }
   ],
   "source": [
    "len(up_sample(ddf_far_away_train))"
   ]
  },
  {
   "cell_type": "code",
   "execution_count": 91,
   "metadata": {},
   "outputs": [
    {
     "data": {
      "text/plain": [
       "95    759\n",
       "67    759\n",
       "15    759\n",
       "90    759\n",
       "62    759\n",
       "42    759\n",
       "88    759\n",
       "64    759\n",
       "52    759\n",
       "Name: target, dtype: int64"
      ]
     },
     "execution_count": 91,
     "metadata": {},
     "output_type": "execute_result"
    }
   ],
   "source": [
    "up_sample(ddf_far_away_train)[\"target\"].value_counts()"
   ]
  },
  {
   "cell_type": "code",
   "execution_count": 168,
   "metadata": {},
   "outputs": [
    {
     "data": {
      "image/png": "[encoded data removed]",
      "text/plain": [
       "<Figure size 576x576 with 1 Axes>"
      ]
     },
     "metadata": {},
     "output_type": "display_data"
    }
   ],
   "source": [
    "plot_accuracy(model[1], model[2])"
   ]
  },
  {
   "cell_type": "code",
   "execution_count": null,
   "metadata": {},
   "outputs": [],
   "source": []
  }
 ],
 "metadata": {
  "kernelspec": {
   "display_name": "Python 3",
   "language": "python",
   "name": "python3"
  },
  "language_info": {
   "codemirror_mode": {
    "name": "ipython",
    "version": 3
   },
   "file_extension": ".py",
   "mimetype": "text/x-python",
   "name": "python",
   "nbconvert_exporter": "python",
   "pygments_lexer": "ipython3",
   "version": "3.6.5"
  }
 },
 "nbformat": 4,
 "nbformat_minor": 2
}
