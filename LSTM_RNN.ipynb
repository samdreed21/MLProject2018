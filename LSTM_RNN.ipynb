{
 "cells": [
  {
   "cell_type": "code",
   "execution_count": 1,
   "metadata": {},
   "outputs": [],
   "source": [
    "import numpy as np \n",
    "import pandas as pd \n",
    "import matplotlib.pyplot as plt\n",
    "import itertools\n",
    "import pickle, gzip\n",
    "import gc\n",
    "import time"
   ]
  },
  {
   "cell_type": "code",
   "execution_count": 2,
   "metadata": {},
   "outputs": [],
   "source": [
    "train_series = pd.read_csv('training_set.csv')\n",
    "metadata_train = pd.read_csv('training_set_metadata.csv')\n",
    "\n",
    "simple_features = train_series.groupby(\n",
    "    ['object_id', 'passband'])['flux'].agg(\n",
    "    ['mean', 'median', 'max', 'min', 'std']).unstack('passband')\n",
    "\n",
    "\n",
    "#construct time series using binned observations:\n",
    "ts_mod = train_series[['object_id', 'mjd', 'passband', 'flux']].copy()\n",
    "#bin by 5 days, reducing the size of data but still giving a time series\n",
    "ts_mod['mjd_d5'] = (ts_mod['mjd'] / 5).astype(int)\n",
    "ts_mod = ts_mod.groupby(['object_id', 'mjd_d5', 'passband'])['flux'].mean().reset_index()\n",
    "\n",
    "#pivotting\n",
    "ts_piv = pd.pivot_table(ts_mod, \n",
    "                        index='object_id', \n",
    "                        columns=['mjd_d5', 'passband'], \n",
    "                        values=['flux'],\n",
    "                        dropna=False)\n",
    "\n",
    "gc.enable()"
   ]
  },
  {
   "cell_type": "code",
   "execution_count": 3,
   "metadata": {},
   "outputs": [],
   "source": [
    "del metadata_train['ra'],metadata_train['decl'],metadata_train['gal_l'], metadata_train['gal_b'],metadata_train['hostgal_photoz'],metadata_train['hostgal_photoz_err'], metadata_train['distmod'], metadata_train['mwebv']\n",
    "#Bin into ddf and non-ddf training\n",
    "ddf = metadata_train[(metadata_train['ddf'] == 1)]\n",
    "del ddf['ddf']\n",
    "\n",
    "ddf_far_away= (ddf[(ddf['hostgal_specz'] > 0)])\n",
    "ddf_far_away.set_index('object_id', inplace=True)\n",
    "ddf_nearby= ddf[(ddf['hostgal_specz'] <=0)]\n",
    "ddf_nearby.set_index('object_id', inplace=True)\n",
    "non_ddf = metadata_train[(metadata_train['ddf'] == 0)]\n",
    "del non_ddf['ddf']\n",
    "\n",
    "non_ddf_far_away= non_ddf[(non_ddf['hostgal_specz'] >0)]\n",
    "non_ddf_far_away.set_index('object_id', inplace=True)\n",
    "non_ddf_nearby= non_ddf[(non_ddf['hostgal_specz'] <=0 )]\n",
    "non_ddf_nearby.set_index('object_id', inplace=True)\n",
    "del ddf, non_ddf, ddf_far_away['hostgal_specz'], non_ddf_far_away['hostgal_specz'], ddf_nearby['hostgal_specz'], non_ddf_nearby['hostgal_specz']\n",
    "\n",
    "gc.collect()\n",
    "\n",
    "bins = [ddf_far_away, ddf_nearby, non_ddf_far_away, non_ddf_nearby]"
   ]
  },
  {
   "cell_type": "code",
   "execution_count": 4,
   "metadata": {},
   "outputs": [],
   "source": [
    "def get_data_point(object_id, bin_name):\n",
    "    x = torch.tensor(ts_piv.loc[object_id].values.reshape(-1, 1, 6), dtype = torch.float32)\n",
    "    x[x != x] = 0\n",
    "    y = torch.tensor([classes.index(bin_name.loc[object_id].target)])\n",
    "    return x, y\n",
    "\n",
    "def random_data_point(bin_name):\n",
    "    object_id = bin_name.sample().index.values[0]\n",
    "    return get_data_point(object_id, bin_name)"
   ]
  },
  {
   "cell_type": "code",
   "execution_count": 5,
   "metadata": {},
   "outputs": [],
   "source": [
    "import torch\n",
    "import torch.nn as nn\n",
    "import torch.autograd as autograd\n",
    "import torch.optim as optim"
   ]
  },
  {
   "cell_type": "code",
   "execution_count": 77,
   "metadata": {},
   "outputs": [],
   "source": [
    "class RNN(nn.Module):\n",
    "    def __init__(self, input_size, hidden_size, output_size, batch_size=1):\n",
    "        super(RNN, self).__init__()\n",
    "\n",
    "        self.hidden_dim = hidden_size\n",
    "        self.batch_size = batch_size\n",
    "        #TODO add dropout or something\n",
    "        self.lstm = nn.LSTM(input_size, hidden_size, dropout=.5, num_layers=2)\n",
    "        self.hidden2out = nn.Linear(hidden_size, output_size)\n",
    "        self.softmax = nn.LogSoftmax(dim=1)\n",
    "        self.hidden = self.init_hidden()\n",
    "    \n",
    "    def forward(self, sequence):\n",
    "        x = sequence.view(len(sequence), self.batch_size , -1)\n",
    "        lstm_out, self.hidden = self.lstm(x, self.hidden)\n",
    "        output  = self.hidden2out(lstm_out[-1])\n",
    "        output = self.softmax(output)\n",
    "        return output\n",
    "\n",
    "    def init_hidden(self):\n",
    "        return (torch.zeros(2, self.batch_size, self.hidden_dim),\n",
    "                torch.zeros(2, self.batch_size, self.hidden_dim))"
   ]
  },
  {
   "cell_type": "code",
   "execution_count": 7,
   "metadata": {},
   "outputs": [],
   "source": [
    "classes = tuple(metadata_train.target.unique())"
   ]
  },
  {
   "cell_type": "code",
   "execution_count": 8,
   "metadata": {},
   "outputs": [],
   "source": [
    "def categoryFromOutput(output):\n",
    "    top_n, top_i = output.topk(1)\n",
    "    category_i = top_i[0].item()\n",
    "    return classes[category_i], category_i"
   ]
  },
  {
   "cell_type": "code",
   "execution_count": 109,
   "metadata": {},
   "outputs": [],
   "source": [
    "def predict(model, bin_name, sample=1):\n",
    "    \n",
    "    vc = bin_name.target.value_counts(normalize=True)\n",
    "    weights = torch.tensor([1-(vc.loc[i]) if i in vc.index else 1 for i in classes])\n",
    "    \n",
    "    labels = []\n",
    "    loss = 0\n",
    "    criterion = nn.NLLLoss(weight=weights)\n",
    "    s = bin_name.sample(frac=sample)\n",
    "    with torch.no_grad():\n",
    "        for obj_id in s.index:\n",
    "            x, y = get_data_point(obj_id, s)\n",
    "            y_hat = model(x)\n",
    "            label = categoryFromOutput(y_hat)[0]\n",
    "            labels.append([obj_id, label, bin_name.loc[obj_id].target])\n",
    "            loss += criterion(y_hat, y)\n",
    "\n",
    "    print(\"Average Weighted Loss: {:.2f}\".format(loss/len(s)))\n",
    "    labels= pd.DataFrame(labels, columns=[\"object_id\", \"y_pred\", \"y_true\"])\n",
    "    labels.set_index(\"object_id\", inplace=True)\n",
    "    return labels, loss/len(s)"
   ]
  },
  {
   "cell_type": "code",
   "execution_count": 10,
   "metadata": {},
   "outputs": [],
   "source": [
    "def up_sample(bin_name, n=None):\n",
    "    from sklearn.utils import resample\n",
    "    classes = bin_name.target.unique()\n",
    "    class_dfs = [bin_name[bin_name.target == class_] for class_ in classes]\n",
    "    if not n:\n",
    "        n = np.max([len(df) for df in class_dfs])\n",
    "    even_dfs = [resample(df,\n",
    "                        replace=True,\n",
    "                        n_samples=n) for df in class_dfs]\n",
    "    return pd.concat(even_dfs).sample(frac=1).reset_index()"
   ]
  },
  {
   "cell_type": "code",
   "execution_count": 97,
   "metadata": {},
   "outputs": [],
   "source": [
    "def train(train_bin_name, valid_bin_name, n_samples=None, epochs=1, verbose=True):\n",
    "    \n",
    "    # Initialize Model\n",
    "    print(\"Building LSTM model..\")\n",
    "    model = RNN(6, 32, 14)\n",
    "    criterion = nn.NLLLoss()\n",
    "    optimizer = optim.SGD(model.parameters(), lr=0.01, momentum = .9)\n",
    "    scheduler = optim.lr_scheduler.ReduceLROnPlateau(optimizer, 'min', patience=epochs//10-1, factor=0.5, verbose=verbose)\n",
    "    print(\"Done.\")\n",
    "    print_every = 100\n",
    "    current_loss = 0\n",
    "    \n",
    "    train_loss = []\n",
    "    valid_loss = []\n",
    "    min_loss = np.inf\n",
    "\n",
    "    start_t = time.time()\n",
    "    \n",
    "    for epoch in range(epochs):\n",
    "        randomized_bin = up_sample(train_bin_name, n=n_samples)\n",
    "        n = len(randomized_bin)\n",
    "        for i, row in randomized_bin.iterrows():\n",
    "            # Step 1. Remember that Pytorch accumulates gradients.\n",
    "            # We need to clear them out before each instance\n",
    "            model.zero_grad()\n",
    "            \n",
    "            # Also, we need to clear out the hidden state of the LSTM,\n",
    "            # detaching it from its history on the last instance.\n",
    "            model.hidden = model.init_hidden()\n",
    "\n",
    "            # Step 2. Get our inputs ready for the network, that is, turn them into\n",
    "            # Tensors of light curve inputs.\n",
    "            obj_id = row['object_id']\n",
    "            x_train, y_train = get_data_point(obj_id, train_bin_name)\n",
    "\n",
    "            # Step 3. Run our forward pass.\n",
    "            y_hat = model(x_train)\n",
    "\n",
    "            # Step 4. Compute the loss, gradients, and update the parameters by\n",
    "            #  calling optimizer.step()\n",
    "            loss = criterion(y_hat, y_train)\n",
    "            current_loss += loss\n",
    "            loss.backward()\n",
    "            optimizer.step()\n",
    "            \n",
    "            if ((i+1)%print_every == 0 and verbose):\n",
    "                print(\"Epoch {} {:.0f}% ===> Avg Loss: {:.3f}\".format(epoch, (i/n*100), current_loss/print_every))\n",
    "                current_loss=0\n",
    "                \n",
    "        # After each epoch test on validation data\n",
    "        print(\"Epoch {}: Validation\".format(epoch), end =\" \")\n",
    "        _, vloss = predict(model, valid_bin_name)\n",
    "        _, tloss = predict(model, train_bin_name)\n",
    "        valid_loss.append(vloss)\n",
    "        train_loss.append(tloss)\n",
    "        \n",
    "        # Give it to the scheduler to see if learning rate needs to be reduced\n",
    "        scheduler.step(vloss)\n",
    "        \n",
    "        if vloss < min_loss:\n",
    "            min_loss = vloss\n",
    "            print(f\"         Model achieved record validation loss, Saving to {start_t}_E{epoch}_L{vloss}.pt\")\n",
    "            torch.save(model.state_dict(), f'models/{start_t}_E{epoch}.pt')\n",
    "            print(\"         Done.\")\n",
    "            \n",
    "    print(f\"Finished {epochs} epochs in {time.time() - start_t}\")\n",
    "    return model, valid_loss, train_loss"
   ]
  },
  {
   "cell_type": "code",
   "execution_count": 98,
   "metadata": {},
   "outputs": [],
   "source": [
    "from sklearn.model_selection import train_test_split\n",
    "from sklearn.ensemble import RandomForestClassifier\n",
    "from sklearn.metrics import confusion_matrix, roc_curve\n",
    "import seaborn as sns\n",
    "import warnings"
   ]
  },
  {
   "cell_type": "code",
   "execution_count": null,
   "metadata": {},
   "outputs": [],
   "source": [
    "# Split into validation and training.\n",
    "ddf_far_away_train, ddf_far_away_validation = train_test_split(ddf_far_away, test_size=0.2)\n",
    "ddf_nearby_train, ddf_nearby_validation = train_test_split(ddf_nearby, test_size=0.2)\n",
    "    \n",
    "non_ddf_far_away_train, non_ddf_far_away_validation = train_test_split(non_ddf_far_away, test_size=0.2)\n",
    "non_ddf_nearby_train, non_ddf_nearby_validation = train_test_split(non_ddf_nearby, test_size=0.2)\n",
    "    \n",
    "# Bin up\n",
    "training_bin = [ddf_far_away_train, ddf_nearby_train, \n",
    "                non_ddf_far_away_train, non_ddf_nearby_train]\n",
    "\n",
    "validation_bin = [ddf_far_away_validation, ddf_nearby_validation, \n",
    "                   non_ddf_far_away_validation, non_ddf_nearby_validation]\n",
    "\n",
    "# filenames = ['ddf_far_away', 'ddf_nearby', 'non_ddf_far_away', 'non_ddf_nearby']\n"
   ]
  },
  {
   "cell_type": "code",
   "execution_count": 110,
   "metadata": {},
   "outputs": [
    {
     "name": "stdout",
     "output_type": "stream",
     "text": [
      "Building LSTM model..\n",
      "Done.\n",
      "Epoch 0: Validation Average Weighted Loss: 2.55\n",
      "         Model achieved record validation loss, Saving to 1544055013.986194_E0.pt\n",
      "         Done.\n",
      "Finished 1 epochs in 10.013882160186768\n"
     ]
    }
   ],
   "source": [
    "model = train(ddf_far_away_train, ddf_far_away_validation, n_samples=5)"
   ]
  },
  {
   "cell_type": "code",
   "execution_count": 103,
   "metadata": {},
   "outputs": [
    {
     "name": "stdout",
     "output_type": "stream",
     "text": [
      "Average Loss: 2.55\n"
     ]
    }
   ],
   "source": [
    "model = RNN(6, 32, 14)\n",
    "model.load_state_dict(torch.load(\"models/1544050544.596692_E0.pt\"))\n",
    "model.eval()\n",
    "y_hat, loss = predict(model, ddf_far_away_validation)"
   ]
  },
  {
   "cell_type": "code",
   "execution_count": 106,
   "metadata": {},
   "outputs": [],
   "source": [
    "def confusion(labels, plot=True):\n",
    "    classes = np.sort(list(labels.y_true.unique()))\n",
    "    y_pred = np.array(labels.y_pred)\n",
    "    y_true = np.array(labels.y_true)\n",
    "    cm=confusion_matrix(y_true, y_pred)\n",
    "#     cm = cm.astype('float') / cm.sum(axis=1)[:, np.newaxis]\n",
    "    fig, ax = plt.subplots(figsize=(9,9))\n",
    "    sns.heatmap(cm, xticklabels=classes, yticklabels=classes, cmap='inferno', annot=True, lw=1, fmt=\".2f\")\n",
    "    ax.set_xlabel('Predicted Label')\n",
    "    ax.set_ylabel('True Label')\n",
    "    if plot:\n",
    "        plt.show()\n",
    "\n",
    "def plot_accuracy(train_loss, valid_loss):\n",
    "    fig_nodes = plt.figure(figsize=(8,8))\n",
    "    ax1 = fig_nodes.add_subplot(1,1,1)\n",
    "    ax1.plot(train_acc, marker='o', markersize=5, label = \"Training\")\n",
    "    ax1.plot(valid_acc, marker='+', markersize=5, label = \"Validation\")\n",
    "    ax1.set_ylim([0,1])\n",
    "    ax1.set_xlabel(\"Epochs\")\n",
    "    ax1.set_ylabel(\"Accuracy\")\n",
    "    ax1.set_title(f\"Training Accuracy wrt Epochs\")\n",
    "    plt.legend()\n",
    "    plt.show()"
   ]
  },
  {
   "cell_type": "code",
   "execution_count": 107,
   "metadata": {},
   "outputs": [
    {
     "data": {
      "image/png": "[encoded data removed]",
      "text/plain": [
       "<Figure size 648x648 with 2 Axes>"
      ]
     },
     "metadata": {
      "needs_background": "light"
     },
     "output_type": "display_data"
    }
   ],
   "source": [
    "confusion(y_hat)"
   ]
  },
  {
   "cell_type": "code",
   "execution_count": 87,
   "metadata": {},
   "outputs": [
    {
     "data": {
      "text/plain": [
       "6831"
      ]
     },
     "execution_count": 87,
     "metadata": {},
     "output_type": "execute_result"
    }
   ],
   "source": [
    "len(up_sample(ddf_far_away_train))"
   ]
  },
  {
   "cell_type": "code",
   "execution_count": 91,
   "metadata": {},
   "outputs": [
    {
     "data": {
      "text/plain": [
       "95    759\n",
       "67    759\n",
       "15    759\n",
       "90    759\n",
       "62    759\n",
       "42    759\n",
       "88    759\n",
       "64    759\n",
       "52    759\n",
       "Name: target, dtype: int64"
      ]
     },
     "execution_count": 91,
     "metadata": {},
     "output_type": "execute_result"
    }
   ],
   "source": [
    "up_sample(ddf_far_away_train)[\"target\"].value_counts()"
   ]
  },
  {
   "cell_type": "code",
   "execution_count": null,
   "metadata": {},
   "outputs": [],
   "source": []
  }
 ],
 "metadata": {
  "kernelspec": {
   "display_name": "Python 3",
   "language": "python",
   "name": "python3"
  },
  "language_info": {
   "codemirror_mode": {
    "name": "ipython",
    "version": 3
   },
   "file_extension": ".py",
   "mimetype": "text/x-python",
   "name": "python",
   "nbconvert_exporter": "python",
   "pygments_lexer": "ipython3",
   "version": "3.6.7"
  }
 },
 "nbformat": 4,
 "nbformat_minor": 2
}
