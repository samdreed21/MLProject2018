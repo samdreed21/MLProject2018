{
 "cells": [
  {
   "cell_type": "code",
   "execution_count": 87,
   "metadata": {},
   "outputs": [],
   "source": [
    "import numpy as np \n",
    "import pandas as pd \n",
    "import matplotlib.pyplot as plt\n",
    "import itertools\n",
    "import pickle, gzip\n",
    "import gc\n",
    "from sklearn.model_selection import train_test_split\n",
    "from sklearn.ensemble import RandomForestClassifier\n",
    "from sklearn.metrics import confusion_matrix\n",
    "import seaborn as sns\n",
    "import warnings"
   ]
  },
  {
   "cell_type": "code",
   "execution_count": 55,
   "metadata": {
    "scrolled": true
   },
   "outputs": [
    {
     "data": {
      "text/html": [
       "<div>\n",
       "<style scoped>\n",
       "    .dataframe tbody tr th:only-of-type {\n",
       "        vertical-align: middle;\n",
       "    }\n",
       "\n",
       "    .dataframe tbody tr th {\n",
       "        vertical-align: top;\n",
       "    }\n",
       "\n",
       "    .dataframe thead th {\n",
       "        text-align: right;\n",
       "    }\n",
       "</style>\n",
       "<table border=\"1\" class=\"dataframe\">\n",
       "  <thead>\n",
       "    <tr style=\"text-align: right;\">\n",
       "      <th></th>\n",
       "      <th>object_id</th>\n",
       "      <th>ra</th>\n",
       "      <th>decl</th>\n",
       "      <th>gal_l</th>\n",
       "      <th>gal_b</th>\n",
       "      <th>ddf</th>\n",
       "      <th>hostgal_specz</th>\n",
       "      <th>hostgal_photoz</th>\n",
       "      <th>hostgal_photoz_err</th>\n",
       "      <th>distmod</th>\n",
       "      <th>mwebv</th>\n",
       "      <th>target</th>\n",
       "    </tr>\n",
       "  </thead>\n",
       "  <tbody>\n",
       "    <tr>\n",
       "      <th>0</th>\n",
       "      <td>615</td>\n",
       "      <td>349.046051</td>\n",
       "      <td>-61.943836</td>\n",
       "      <td>320.796530</td>\n",
       "      <td>-51.753706</td>\n",
       "      <td>1</td>\n",
       "      <td>0.0000</td>\n",
       "      <td>0.0000</td>\n",
       "      <td>0.0000</td>\n",
       "      <td>NaN</td>\n",
       "      <td>0.017</td>\n",
       "      <td>92</td>\n",
       "    </tr>\n",
       "    <tr>\n",
       "      <th>1</th>\n",
       "      <td>713</td>\n",
       "      <td>53.085938</td>\n",
       "      <td>-27.784405</td>\n",
       "      <td>223.525509</td>\n",
       "      <td>-54.460748</td>\n",
       "      <td>1</td>\n",
       "      <td>1.8181</td>\n",
       "      <td>1.6267</td>\n",
       "      <td>0.2552</td>\n",
       "      <td>45.4063</td>\n",
       "      <td>0.007</td>\n",
       "      <td>88</td>\n",
       "    </tr>\n",
       "    <tr>\n",
       "      <th>2</th>\n",
       "      <td>730</td>\n",
       "      <td>33.574219</td>\n",
       "      <td>-6.579593</td>\n",
       "      <td>170.455585</td>\n",
       "      <td>-61.548219</td>\n",
       "      <td>1</td>\n",
       "      <td>0.2320</td>\n",
       "      <td>0.2262</td>\n",
       "      <td>0.0157</td>\n",
       "      <td>40.2561</td>\n",
       "      <td>0.021</td>\n",
       "      <td>42</td>\n",
       "    </tr>\n",
       "    <tr>\n",
       "      <th>3</th>\n",
       "      <td>745</td>\n",
       "      <td>0.189873</td>\n",
       "      <td>-45.586655</td>\n",
       "      <td>328.254458</td>\n",
       "      <td>-68.969298</td>\n",
       "      <td>1</td>\n",
       "      <td>0.3037</td>\n",
       "      <td>0.2813</td>\n",
       "      <td>1.1523</td>\n",
       "      <td>40.7951</td>\n",
       "      <td>0.007</td>\n",
       "      <td>90</td>\n",
       "    </tr>\n",
       "    <tr>\n",
       "      <th>4</th>\n",
       "      <td>1124</td>\n",
       "      <td>352.711273</td>\n",
       "      <td>-63.823658</td>\n",
       "      <td>316.922299</td>\n",
       "      <td>-51.059403</td>\n",
       "      <td>1</td>\n",
       "      <td>0.1934</td>\n",
       "      <td>0.2415</td>\n",
       "      <td>0.0176</td>\n",
       "      <td>40.4166</td>\n",
       "      <td>0.024</td>\n",
       "      <td>90</td>\n",
       "    </tr>\n",
       "  </tbody>\n",
       "</table>\n",
       "</div>"
      ],
      "text/plain": [
       "   object_id          ra       decl       gal_l      gal_b  ddf  \\\n",
       "0        615  349.046051 -61.943836  320.796530 -51.753706    1   \n",
       "1        713   53.085938 -27.784405  223.525509 -54.460748    1   \n",
       "2        730   33.574219  -6.579593  170.455585 -61.548219    1   \n",
       "3        745    0.189873 -45.586655  328.254458 -68.969298    1   \n",
       "4       1124  352.711273 -63.823658  316.922299 -51.059403    1   \n",
       "\n",
       "   hostgal_specz  hostgal_photoz  hostgal_photoz_err  distmod  mwebv  target  \n",
       "0         0.0000          0.0000              0.0000      NaN  0.017      92  \n",
       "1         1.8181          1.6267              0.2552  45.4063  0.007      88  \n",
       "2         0.2320          0.2262              0.0157  40.2561  0.021      42  \n",
       "3         0.3037          0.2813              1.1523  40.7951  0.007      90  \n",
       "4         0.1934          0.2415              0.0176  40.4166  0.024      90  "
      ]
     },
     "execution_count": 55,
     "metadata": {},
     "output_type": "execute_result"
    }
   ],
   "source": [
    "train_series = pd.read_csv('training_sample_set.csv')\n",
    "metadata_train = pd.read_csv('training_set_metadata.csv')\n",
    "metadata_train.head()"
   ]
  },
  {
   "cell_type": "code",
   "execution_count": 82,
   "metadata": {},
   "outputs": [
    {
     "name": "stderr",
     "output_type": "stream",
     "text": [
      "C:\\Users\\Taylor\\Anaconda3\\lib\\site-packages\\pandas\\core\\frame.py:3787: SettingWithCopyWarning: \n",
      "A value is trying to be set on a copy of a slice from a DataFrame\n",
      "\n",
      "See the caveats in the documentation: http://pandas.pydata.org/pandas-docs/stable/indexing.html#indexing-view-versus-copy\n",
      "  downcast=downcast, **kwargs)\n"
     ]
    }
   ],
   "source": [
    "baseline_Xtrain=metadata_train[['ra', 'decl', 'gal_l', 'gal_b', 'ddf', 'hostgal_specz', 'hostgal_photoz', 'hostgal_photoz_err', 'distmod', 'mwebv']].copy()\n",
    "baseline_Ytrain= metadata_train[['target']].copy()\n",
    "\n",
    "X_train, X_valid, y_train, y_valid= train_test_split(baseline_Xtrain,baseline_Ytrain, test_size=0.1)\n",
    "\n",
    "y_train1=np.array(y_train).reshape(-1)\n",
    "y_valid1=np.array(y_valid).reshape(-1)\n",
    "\n",
    "X_train.fillna(0, inplace=True)\n",
    "X_valid.fillna(0, inplace=True)\n",
    "\n",
    "classes = np.sort(np.array(metadata_train.target.unique()))\n"
   ]
  },
  {
   "cell_type": "code",
   "execution_count": 91,
   "metadata": {},
   "outputs": [
    {
     "name": "stdout",
     "output_type": "stream",
     "text": [
      "Mean Accuracy: 0.4722547770700637\n",
      "Min Accuracy:  0.4305732484076433\n",
      "Max Accuracy:  0.532484076433121\n"
     ]
    }
   ],
   "source": [
    "warnings.filterwarnings('ignore')\n",
    "accuracies=[]\n",
    "epochs=100\n",
    "for e in range(epochs):\n",
    "    clf = RandomForestClassifier(n_estimators=100, max_depth=2,max_features='log2', random_state=0)\n",
    "    clf.fit(X_train, y_train1)\n",
    "    accuracies.append(clf.score(X_valid,y_valid1))\n",
    "    X_train, X_valid, y_train, y_valid= train_test_split(baseline_Xtrain,baseline_Ytrain, test_size=0.1)\n",
    "    \n",
    "    y_train1=np.array(y_train).reshape(-1)\n",
    "    y_valid1=np.array(y_valid).reshape(-1)\n",
    "\n",
    "    X_train.fillna(0, inplace=True)\n",
    "    X_valid.fillna(0, inplace=True)\n",
    "    \n",
    "print(\"Mean Accuracy:\" , np.mean(np.array(accuracies)))\n",
    "print(\"Min Accuracy: \", np.min(np.array(accuracies)))\n",
    "print(\"Max Accuracy: \", np.max(np.array(accuracies)))"
   ]
  },
  {
   "cell_type": "code",
   "execution_count": 94,
   "metadata": {},
   "outputs": [
    {
     "data": {
      "text/plain": [
       "Text(60,0.5,'True Label')"
      ]
     },
     "execution_count": 94,
     "metadata": {},
     "output_type": "execute_result"
    },
    {
     "data": {
      "image/png": "[encoded data removed]",
      "text/plain": [
       "<Figure size 648x648 with 2 Axes>"
      ]
     },
     "metadata": {},
     "output_type": "display_data"
    }
   ],
   "source": [
    "cm=confusion_matrix(y_valid1, clf.predict(X_valid))\n",
    "fig, ax = plt.subplots(figsize=(9,9))\n",
    "sns.heatmap(cm, xticklabels=classes, yticklabels=classes, cmap='inferno', annot=True, lw=1, fmt=\"d\")\n",
    "ax.set_xlabel('Predicted Label')\n",
    "ax.set_ylabel('True Label')"
   ]
  },
  {
   "cell_type": "code",
   "execution_count": 124,
   "metadata": {},
   "outputs": [
    {
     "name": "stdout",
     "output_type": "stream",
     "text": [
      "[ 6 15 16 42 52 53 62 64 65 67 88 90 92 95]\n",
      "[151, 0, 924, 0, 0, 30, 0, 0, 981, 0, 0, 0, 239, 0]\n",
      "[0, 495, 0, 1193, 183, 0, 484, 102, 0, 208, 370, 2313, 0, 175]\n",
      "[144, 487, 762, 889, 113, 26, 355, 100, 672, 142, 251, 1476, 181, 134]\n",
      "[7, 8, 162, 304, 70, 4, 129, 2, 309, 66, 119, 837, 58, 41]\n"
     ]
    }
   ],
   "source": [
    "classes = np.sort(np.array(metadata_train.target.unique()))\n",
    "print(classes)\n",
    "\n",
    "far_away_count=[0,0,0,0,0,0,0,0,0,0,0,0,0,0]\n",
    "nearby_count=[0,0,0,0,0,0,0,0,0,0,0,0,0,0]\n",
    "\n",
    "ddf_count=[0,0,0,0,0,0,0,0,0,0,0,0,0,0]\n",
    "wfd_count=[0,0,0,0,0,0,0,0,0,0,0,0,0,0]\n",
    "\n",
    "for index, row in metadata_train.iterrows():\n",
    "    itemindex = np.where(classes==row.target)\n",
    "    if(row.hostgal_specz==0):\n",
    "        far_away_count[itemindex[0][0]]+=1\n",
    "    else:\n",
    "        nearby_count[itemindex[0][0]]+=1\n",
    "    \n",
    "    if(row.ddf==0):\n",
    "        ddf_count[itemindex[0][0]]+=1\n",
    "    else:\n",
    "        wfd_count[itemindex[0][0]]+=1\n",
    "    \n",
    "print(far_away_count)\n",
    "print(nearby_count)\n",
    "\n",
    "print(ddf_count)\n",
    "print(wfd_count)"
   ]
  },
  {
   "cell_type": "code",
   "execution_count": 137,
   "metadata": {},
   "outputs": [
    {
     "data": {
      "image/png": "[encoded data removed]",
      "text/plain": [
       "<Figure size 648x504 with 1 Axes>"
      ]
     },
     "metadata": {},
     "output_type": "display_data"
    }
   ],
   "source": [
    "fig, ax = plt.subplots(figsize=(9,7))\n",
    "\n",
    "index = np.arange(n_classes)\n",
    "bar_width=.6\n",
    "rects1 = plt.bar(index, far_away_count, bar_width,\n",
    "                 alpha=.6,\n",
    "                 color='gold',\n",
    "                 label='Far Away Objects')\n",
    "rects1 = plt.bar(index, nearby_count, bar_width,\n",
    "                 alpha=.9,\n",
    "                 color='indigo',\n",
    "                 label='Nearby Objects')\n",
    "plt.xticks(y_pos, classes)\n",
    "plt.xlabel('Class')\n",
    "plt.ylabel('Number of Objects')\n",
    "plt.title('Distribution of Classes for Near and Far Away Objects')\n",
    "plt.legend()\n",
    "plt.show()"
   ]
  },
  {
   "cell_type": "code",
   "execution_count": 138,
   "metadata": {},
   "outputs": [
    {
     "data": {
      "image/png": "[encoded data removed]",
      "text/plain": [
       "<Figure size 648x504 with 1 Axes>"
      ]
     },
     "metadata": {},
     "output_type": "display_data"
    }
   ],
   "source": [
    "fig, ax = plt.subplots(figsize=(9,7))\n",
    "index = np.arange(n_classes)\n",
    "bar_width=.35\n",
    "rects1 = plt.bar(index, ddf_count, bar_width,\n",
    "                 alpha=.9,\n",
    "                 color='indigo',\n",
    "                 label='DDF')\n",
    "rects1 = plt.bar(index+bar_width, wfd_count, bar_width,\n",
    "                 alpha=.6,\n",
    "                 color='gold',\n",
    "                 label='WDF')\n",
    "plt.xticks(y_pos, classes)\n",
    "plt.xlabel('Class')\n",
    "plt.ylabel('Number of Objects')\n",
    "plt.title('Distribution of Classes for DDF and WDF Surveys')\n",
    "plt.legend()\n",
    "plt.show()"
   ]
  },
  {
   "cell_type": "code",
   "execution_count": null,
   "metadata": {},
   "outputs": [],
   "source": []
  }
 ],
 "metadata": {
  "kernelspec": {
   "display_name": "Python 3",
   "language": "python",
   "name": "python3"
  },
  "language_info": {
   "codemirror_mode": {
    "name": "ipython",
    "version": 3
   },
   "file_extension": ".py",
   "mimetype": "text/x-python",
   "name": "python",
   "nbconvert_exporter": "python",
   "pygments_lexer": "ipython3",
   "version": "3.6.5"
  }
 },
 "nbformat": 4,
 "nbformat_minor": 2
}
